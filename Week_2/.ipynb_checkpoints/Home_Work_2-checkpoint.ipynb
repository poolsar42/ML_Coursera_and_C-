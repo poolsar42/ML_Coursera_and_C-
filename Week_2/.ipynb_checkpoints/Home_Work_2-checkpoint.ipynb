{
 "cells": [
  {
   "cell_type": "code",
   "execution_count": 25,
   "metadata": {},
   "outputs": [],
   "source": [
    "import pandas as pd\n",
    "import numpy as np\n",
    "import sklearn\n",
    "from sklearn.neighbors import KNeighborsRegressor\n",
    "from sklearn.datasets import load_boston\n",
    "from sklearn.preprocessing import scale\n",
    "from sklearn.model_selection import KFold\n",
    "from sklearn.model_selection import cross_val_score"
   ]
  },
  {
   "cell_type": "code",
   "execution_count": null,
   "metadata": {},
   "outputs": [],
   "source": [
    "boston = load_boston()\n",
    "target = boston['target']\n",
    "data = boston['data']\n",
    "data = scale(data)\n",
    "kf = KFold(n_splits=5, shuffle=True, random_state=42)\n",
    "neigh = KNeighborsRegressor(n_neighbors=1)\n",
    "a = np.mean(cross_val_score(neigh, data, target, scoring = 'neg_mean_squared_error',cv=kf))\n",
    "c = 1\n",
    "for i in np.linspace(1, 10, 200):\n",
    "    neigh = KNeighborsRegressor(weights='distance', p = i)\n",
    "    b = np.mean(cross_val_score(neigh, data, target, scoring = 'neg_mean_squared_error', cv=kf))\n",
    "    if b > a:\n",
    "        c = i\n",
    "        a = b"
   ]
  },
  {
   "cell_type": "code",
   "execution_count": 30,
   "metadata": {},
   "outputs": [],
   "source": [
    "file = open('2.1.txt', 'w')\n",
    "file.write(str(c))\n",
    "file.close()"
   ]
  }
 ],
 "metadata": {
  "kernelspec": {
   "display_name": "Python 3",
   "language": "python",
   "name": "python3"
  },
  "language_info": {
   "codemirror_mode": {
    "name": "ipython",
    "version": 3
   },
   "file_extension": ".py",
   "mimetype": "text/x-python",
   "name": "python",
   "nbconvert_exporter": "python",
   "pygments_lexer": "ipython3",
   "version": "3.7.4"
  }
 },
 "nbformat": 4,
 "nbformat_minor": 2
}
