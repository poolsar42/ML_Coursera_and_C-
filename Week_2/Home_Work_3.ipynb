{
 "cells": [
  {
   "cell_type": "code",
   "execution_count": 177,
   "metadata": {},
   "outputs": [],
   "source": [
    "import pandas as pd\n",
    "from sklearn.linear_model import Perceptron\n",
    "from sklearn.metrics import accuracy_score\n",
    "from sklearn.preprocessing import StandardScaler"
   ]
  },
  {
   "cell_type": "code",
   "execution_count": 178,
   "metadata": {},
   "outputs": [
    {
     "data": {
      "text/html": [
       "<div>\n",
       "<style scoped>\n",
       "    .dataframe tbody tr th:only-of-type {\n",
       "        vertical-align: middle;\n",
       "    }\n",
       "\n",
       "    .dataframe tbody tr th {\n",
       "        vertical-align: top;\n",
       "    }\n",
       "\n",
       "    .dataframe thead th {\n",
       "        text-align: right;\n",
       "    }\n",
       "</style>\n",
       "<table border=\"1\" class=\"dataframe\">\n",
       "  <thead>\n",
       "    <tr style=\"text-align: right;\">\n",
       "      <th></th>\n",
       "      <th>target</th>\n",
       "      <th>data1</th>\n",
       "      <th>data2</th>\n",
       "    </tr>\n",
       "  </thead>\n",
       "  <tbody>\n",
       "    <tr>\n",
       "      <td>0</td>\n",
       "      <td>-1.0</td>\n",
       "      <td>-0.024626</td>\n",
       "      <td>1174.600238</td>\n",
       "    </tr>\n",
       "    <tr>\n",
       "      <td>1</td>\n",
       "      <td>1.0</td>\n",
       "      <td>-0.978058</td>\n",
       "      <td>1083.198803</td>\n",
       "    </tr>\n",
       "    <tr>\n",
       "      <td>2</td>\n",
       "      <td>-1.0</td>\n",
       "      <td>0.314272</td>\n",
       "      <td>-1472.977609</td>\n",
       "    </tr>\n",
       "    <tr>\n",
       "      <td>3</td>\n",
       "      <td>-1.0</td>\n",
       "      <td>0.179752</td>\n",
       "      <td>231.017267</td>\n",
       "    </tr>\n",
       "    <tr>\n",
       "      <td>4</td>\n",
       "      <td>1.0</td>\n",
       "      <td>-1.262544</td>\n",
       "      <td>-778.271726</td>\n",
       "    </tr>\n",
       "  </tbody>\n",
       "</table>\n",
       "</div>"
      ],
      "text/plain": [
       "   target     data1        data2\n",
       "0    -1.0 -0.024626  1174.600238\n",
       "1     1.0 -0.978058  1083.198803\n",
       "2    -1.0  0.314272 -1472.977609\n",
       "3    -1.0  0.179752   231.017267\n",
       "4     1.0 -1.262544  -778.271726"
      ]
     },
     "execution_count": 178,
     "metadata": {},
     "output_type": "execute_result"
    }
   ],
   "source": [
    "train = pd.read_csv('perceptron-train.csv', names = ['target', 'data1', 'data2'])\n",
    "test = pd.read_csv('perceptron-test.csv', names = ['target', 'data1', 'data2'])\n",
    "test_train = test[['data1', 'data2']]\n",
    "test_target = test['target']\n",
    "train_train = train[['data1', 'data2']]\n",
    "train_target = train['target']\n",
    "train.head()"
   ]
  },
  {
   "cell_type": "code",
   "execution_count": 179,
   "metadata": {},
   "outputs": [
    {
     "data": {
      "text/html": [
       "<div>\n",
       "<style scoped>\n",
       "    .dataframe tbody tr th:only-of-type {\n",
       "        vertical-align: middle;\n",
       "    }\n",
       "\n",
       "    .dataframe tbody tr th {\n",
       "        vertical-align: top;\n",
       "    }\n",
       "\n",
       "    .dataframe thead th {\n",
       "        text-align: right;\n",
       "    }\n",
       "</style>\n",
       "<table border=\"1\" class=\"dataframe\">\n",
       "  <thead>\n",
       "    <tr style=\"text-align: right;\">\n",
       "      <th></th>\n",
       "      <th>target</th>\n",
       "      <th>data1</th>\n",
       "      <th>data2</th>\n",
       "    </tr>\n",
       "  </thead>\n",
       "  <tbody>\n",
       "    <tr>\n",
       "      <td>0</td>\n",
       "      <td>-1.0</td>\n",
       "      <td>1.651437</td>\n",
       "      <td>1337.453826</td>\n",
       "    </tr>\n",
       "    <tr>\n",
       "      <td>1</td>\n",
       "      <td>1.0</td>\n",
       "      <td>-0.866495</td>\n",
       "      <td>1191.232457</td>\n",
       "    </tr>\n",
       "    <tr>\n",
       "      <td>2</td>\n",
       "      <td>-1.0</td>\n",
       "      <td>0.789828</td>\n",
       "      <td>-475.647768</td>\n",
       "    </tr>\n",
       "    <tr>\n",
       "      <td>3</td>\n",
       "      <td>-1.0</td>\n",
       "      <td>0.179549</td>\n",
       "      <td>1959.095353</td>\n",
       "    </tr>\n",
       "    <tr>\n",
       "      <td>4</td>\n",
       "      <td>1.0</td>\n",
       "      <td>-0.434351</td>\n",
       "      <td>568.504207</td>\n",
       "    </tr>\n",
       "  </tbody>\n",
       "</table>\n",
       "</div>"
      ],
      "text/plain": [
       "   target     data1        data2\n",
       "0    -1.0  1.651437  1337.453826\n",
       "1     1.0 -0.866495  1191.232457\n",
       "2    -1.0  0.789828  -475.647768\n",
       "3    -1.0  0.179549  1959.095353\n",
       "4     1.0 -0.434351   568.504207"
      ]
     },
     "execution_count": 179,
     "metadata": {},
     "output_type": "execute_result"
    }
   ],
   "source": [
    "test.head()"
   ]
  },
  {
   "cell_type": "code",
   "execution_count": 190,
   "metadata": {},
   "outputs": [
    {
     "data": {
      "text/plain": [
       "(        data1        data2\n",
       " 0   -0.024626  1174.600238\n",
       " 1   -0.978058  1083.198803\n",
       " 2    0.314272 -1472.977609\n",
       " 3    0.179752   231.017267\n",
       " 4   -1.262544  -778.271726\n",
       " ..        ...          ...\n",
       " 295 -0.126438  1861.564124\n",
       " 296 -0.490972  1815.652064\n",
       " 297 -0.375750  -314.074374\n",
       " 298 -1.861976 -1083.677679\n",
       " 299 -0.039329 -1863.884299\n",
       " \n",
       " [300 rows x 2 columns],         data1        data2\n",
       " 0    1.651437  1337.453826\n",
       " 1   -0.866495  1191.232457\n",
       " 2    0.789828  -475.647768\n",
       " 3    0.179549  1959.095353\n",
       " 4   -0.434351   568.504207\n",
       " ..        ...          ...\n",
       " 195  1.150206  2559.850231\n",
       " 196 -0.732462   159.748695\n",
       " 197  0.412912 -1587.206427\n",
       " 198 -0.098685   682.034777\n",
       " 199  0.760949 -1577.448794\n",
       " \n",
       " [200 rows x 2 columns])"
      ]
     },
     "execution_count": 190,
     "metadata": {},
     "output_type": "execute_result"
    }
   ],
   "source": [
    "train_train, test_train"
   ]
  },
  {
   "cell_type": "code",
   "execution_count": 191,
   "metadata": {},
   "outputs": [],
   "source": [
    "clf = Perceptron(tol=1e-3)#, random_state = 241)\n",
    "clf.fit(train_train, train_target)\n",
    "predictions1 = clf.predict(test_train)\n",
    "accuracy_test_prediction_before = accuracy_score(test_target, predictions1)"
   ]
  },
  {
   "cell_type": "code",
   "execution_count": 192,
   "metadata": {},
   "outputs": [],
   "source": [
    "scaler = StandardScaler()\n",
    "train_scaled = scaler.fit_transform(train_train)\n",
    "test_scaled = scaler.transform(test_train)"
   ]
  },
  {
   "cell_type": "code",
   "execution_count": 193,
   "metadata": {},
   "outputs": [],
   "source": [
    "clf.fit(train_scaled, train_target)\n",
    "predictions2 = clf.predict(test_scaled)\n",
    "accuracy_test_prediction_after = accuracy_score(test_target, predictions2)"
   ]
  },
  {
   "cell_type": "code",
   "execution_count": 194,
   "metadata": {},
   "outputs": [
    {
     "name": "stdout",
     "output_type": "stream",
     "text": [
      "0.845 0.655\n",
      "0.18999999999999995\n"
     ]
    }
   ],
   "source": [
    "print(accuracy_test_prediction_after, accuracy_test_prediction_before)\n",
    "print(abs(accuracy_test_prediction_after - accuracy_test_prediction_before))\n",
    "file = open('3.txt','w')\n",
    "file.write(str(abs(accuracy_test_prediction_after - accuracy_test_prediction_before)))\n",
    "file.close()"
   ]
  }
 ],
 "metadata": {
  "kernelspec": {
   "display_name": "Python 3",
   "language": "python",
   "name": "python3"
  },
  "language_info": {
   "codemirror_mode": {
    "name": "ipython",
    "version": 3
   },
   "file_extension": ".py",
   "mimetype": "text/x-python",
   "name": "python",
   "nbconvert_exporter": "python",
   "pygments_lexer": "ipython3",
   "version": "3.7.4"
  }
 },
 "nbformat": 4,
 "nbformat_minor": 2
}
