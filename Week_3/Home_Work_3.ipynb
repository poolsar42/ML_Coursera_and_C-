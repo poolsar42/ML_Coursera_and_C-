{
 "cells": [
  {
   "cell_type": "code",
   "execution_count": 45,
   "metadata": {},
   "outputs": [],
   "source": [
    "import pandas as pd\n",
    "import numpy as np\n",
    "from math import log, e, exp, sqrt\n",
    "from numpy.linalg import norm\n",
    "from sklearn.metrics import roc_auc_score as ras"
   ]
  },
  {
   "cell_type": "code",
   "execution_count": 46,
   "metadata": {},
   "outputs": [],
   "source": [
    "data = pd.read_csv('data-logistic.csv', names = ['target', 'sign1', 'sign2'])\n",
    "data.head()\n",
    "y = data['target']\n",
    "x1 = data['sign1']\n",
    "x2 = data['sign2']\n",
    "l = 205"
   ]
  },
  {
   "cell_type": "code",
   "execution_count": 61,
   "metadata": {},
   "outputs": [],
   "source": [
    "data.head()\n",
    "w1 = 0\n",
    "w2 = 0\n",
    "w1_l2 = 12\n",
    "w2_l2 = 12"
   ]
  },
  {
   "cell_type": "code",
   "execution_count": 48,
   "metadata": {},
   "outputs": [],
   "source": [
    "def J(w1, w2, y, x1, x2, l, C):\n",
    "    return 1 / l * sum(1 + exp(-y[i]*(w1*x1[i] + w2 * x2[i])) for i in range(l)) + 1 / 2 * C * (w1 ** 2 + w2 ** 2)      "
   ]
  },
  {
   "cell_type": "code",
   "execution_count": 49,
   "metadata": {},
   "outputs": [],
   "source": [
    "def gradient_descent(w1, w2, y, x1, x2, l, k, C):\n",
    "    w1 = w1 + k * 1 / l * sum(y[i]*x1[i] * (1 - 1 / (1 + exp(-y[i]*(w1*x1[i] + w2*x2[i])))) for i in range(l)) - k * w1 * C\n",
    "    w2 = w2 + k * 1 / l * sum(y[i]*x2[i] * (1 - 1 / (1 + exp(-y[i]*(w1*x1[i] + w2*x2[i])))) for i in range(l)) - k * w2 * C  \n",
    "    return w1, w2"
   ]
  },
  {
   "cell_type": "code",
   "execution_count": 50,
   "metadata": {},
   "outputs": [],
   "source": [
    "max_steps = 10000\n",
    "e = 1e-5"
   ]
  },
  {
   "cell_type": "code",
   "execution_count": 54,
   "metadata": {},
   "outputs": [
    {
     "name": "stdout",
     "output_type": "stream",
     "text": [
      "0.287815092611304 0.09197653631869165 235\n"
     ]
    }
   ],
   "source": [
    "s = 0\n",
    "while s < max_steps:\n",
    "    prev_w1, prev_w2 = w1, w2\n",
    "    w1, w2 = gradient_descent(w1, w2, y, x1, x2, l, 0.1, 0)\n",
    "    if sqrt((w1 - prev_w1) ** 2 + (w2 - prev_w2) ** 2) < e:\n",
    "        break\n",
    "    s += 1\n",
    "print(w1, w2, s)"
   ]
  },
  {
   "cell_type": "code",
   "execution_count": 62,
   "metadata": {},
   "outputs": [
    {
     "name": "stdout",
     "output_type": "stream",
     "text": [
      "0.028559692487145776 0.024780792179961448 7\n"
     ]
    }
   ],
   "source": [
    "s = 0\n",
    "while s < max_steps:\n",
    "    prev_w1, prev_w2 = w1_l2, w2_l2\n",
    "    w1_l2, w2_l2 = gradient_descent(w1_l2, w2_l2, y, x1, x2, l, 0.1, 10)\n",
    "    if sqrt((w1_l2 - prev_w1) ** 2 + (w2_l2 - prev_w2) ** 2) < e:\n",
    "        break\n",
    "    s += 1\n",
    "print(w1_l2, w2_l2, s)"
   ]
  },
  {
   "cell_type": "code",
   "execution_count": 18,
   "metadata": {},
   "outputs": [],
   "source": [
    "y_pred = []\n",
    "y_pred_l2 = []\n",
    "for i in range(l):\n",
    "    y_pred.append(1/(1 + exp(-w1*x1[i] -w2*x2[i])))\n",
    "    y_pred_l2.append(1/(1 + exp(-w1_l2*x1[i] -w2_l2*x2[i])))\n",
    "y_pred = np.array(y_pred)\n",
    "y_pred_lw = np.array(y_pred_l2)\n",
    "f = open('3.txt', 'w')\n",
    "f.write(str(ras(y, y_pred)) + ' ' + str(ras(y, y_pred_l2)))\n",
    "f.close()"
   ]
  }
 ],
 "metadata": {
  "kernelspec": {
   "display_name": "Python 3",
   "language": "python",
   "name": "python3"
  },
  "language_info": {
   "codemirror_mode": {
    "name": "ipython",
    "version": 3
   },
   "file_extension": ".py",
   "mimetype": "text/x-python",
   "name": "python",
   "nbconvert_exporter": "python",
   "pygments_lexer": "ipython3",
   "version": "3.7.4"
  }
 },
 "nbformat": 4,
 "nbformat_minor": 2
}
