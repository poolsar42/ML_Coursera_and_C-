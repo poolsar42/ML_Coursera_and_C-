{
 "cells": [
  {
   "cell_type": "code",
   "execution_count": 21,
   "metadata": {},
   "outputs": [],
   "source": [
    "import pandas as pd\n",
    "from sklearn.metrics import accuracy_score, precision_score, recall_score, f1_score"
   ]
  },
  {
   "cell_type": "code",
   "execution_count": 16,
   "metadata": {},
   "outputs": [
    {
     "data": {
      "text/plain": [
       "(43, 34, 64, 59)"
      ]
     },
     "execution_count": 16,
     "metadata": {},
     "output_type": "execute_result"
    }
   ],
   "source": [
    "classification = pd.read_csv('classification.csv')\n",
    "TP, FP, FN, TN = 0, 0, 0, 0\n",
    "for i in range(len(classificaition)):\n",
    "    if classification['true'][i] == classification['pred'][i] == 1:\n",
    "        TP += 1\n",
    "    if classification['true'][i] == 1  and classification['pred'][i] == 0:\n",
    "        FN += 1\n",
    "    if classification['true'][i] == classification['pred'][i] == 0:\n",
    "        TN += 1\n",
    "    if classification['true'][i] == 0 and classification['pred'][i] == 1:\n",
    "        FP += 1"
   ]
  },
  {
   "cell_type": "code",
   "execution_count": 19,
   "metadata": {},
   "outputs": [],
   "source": [
    "f = open('4.1.txt', 'w')\n",
    "f.write(str(TP) + ' ' + str(FP) + ' ' + str(FN) + ' ' + str(TN))\n",
    "f.close()"
   ]
  },
  {
   "cell_type": "code",
   "execution_count": 26,
   "metadata": {},
   "outputs": [],
   "source": [
    "f = open('4.2.txt', 'w')\n",
    "f.write(str(accuracy_score(classificaition['true'], classificaition['pred'])) + ' ' +str(precision_score(classificaition['true'], classificaition['pred'])) + ' ' + str(recall_score(classificaition['true'], classificaition['pred'])) + ' ' + str(f1_score(classificaition['true'], classificaition['pred'])))\n",
    "f.close()"
   ]
  },
  {
   "cell_type": "code",
   "execution_count": 27,
   "metadata": {},
   "outputs": [],
   "source": [
    "scores = pd.read_csv('scores.csv')"
   ]
  },
  {
   "cell_type": "code",
   "execution_count": null,
   "metadata": {},
   "outputs": [],
   "source": []
  }
 ],
 "metadata": {
  "kernelspec": {
   "display_name": "Python 3",
   "language": "python",
   "name": "python3"
  },
  "language_info": {
   "codemirror_mode": {
    "name": "ipython",
    "version": 3
   },
   "file_extension": ".py",
   "mimetype": "text/x-python",
   "name": "python",
   "nbconvert_exporter": "python",
   "pygments_lexer": "ipython3",
   "version": "3.7.4"
  }
 },
 "nbformat": 4,
 "nbformat_minor": 2
}
