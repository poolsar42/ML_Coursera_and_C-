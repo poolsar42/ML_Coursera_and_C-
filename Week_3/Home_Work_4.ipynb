{
 "cells": [
  {
   "cell_type": "code",
   "execution_count": 35,
   "metadata": {},
   "outputs": [],
   "source": [
    "import pandas as pd\n",
    "from sklearn.metrics import accuracy_score, precision_score, recall_score, f1_score\n",
    "from sklearn.metrics import roc_auc_score, precision_recall_curve"
   ]
  },
  {
   "cell_type": "code",
   "execution_count": 16,
   "metadata": {},
   "outputs": [
    {
     "data": {
      "text/plain": [
       "(43, 34, 64, 59)"
      ]
     },
     "execution_count": 16,
     "metadata": {},
     "output_type": "execute_result"
    }
   ],
   "source": [
    "classification = pd.read_csv('classification.csv')\n",
    "TP, FP, FN, TN = 0, 0, 0, 0\n",
    "for i in range(len(classificaition)):\n",
    "    if classification['true'][i] == classification['pred'][i] == 1:\n",
    "        TP += 1\n",
    "    if classification['true'][i] == 1  and classification['pred'][i] == 0:\n",
    "        FN += 1\n",
    "    if classification['true'][i] == classification['pred'][i] == 0:\n",
    "        TN += 1\n",
    "    if classification['true'][i] == 0 and classification['pred'][i] == 1:\n",
    "        FP += 1"
   ]
  },
  {
   "cell_type": "code",
   "execution_count": 19,
   "metadata": {},
   "outputs": [],
   "source": [
    "f = open('4.1.txt', 'w')\n",
    "f.write(str(TP) + ' ' + str(FP) + ' ' + str(FN) + ' ' + str(TN))\n",
    "f.close()"
   ]
  },
  {
   "cell_type": "code",
   "execution_count": 26,
   "metadata": {},
   "outputs": [],
   "source": [
    "f = open('4.2.txt', 'w')\n",
    "f.write(str(accuracy_score(classificaition['true'], classificaition['pred'])) + ' ' +str(precision_score(classificaition['true'], classificaition['pred'])) + ' ' + str(recall_score(classificaition['true'], classificaition['pred'])) + ' ' + str(f1_score(classificaition['true'], classificaition['pred'])))\n",
    "f.close()"
   ]
  },
  {
   "cell_type": "code",
   "execution_count": 28,
   "metadata": {},
   "outputs": [
    {
     "data": {
      "text/html": [
       "<div>\n",
       "<style scoped>\n",
       "    .dataframe tbody tr th:only-of-type {\n",
       "        vertical-align: middle;\n",
       "    }\n",
       "\n",
       "    .dataframe tbody tr th {\n",
       "        vertical-align: top;\n",
       "    }\n",
       "\n",
       "    .dataframe thead th {\n",
       "        text-align: right;\n",
       "    }\n",
       "</style>\n",
       "<table border=\"1\" class=\"dataframe\">\n",
       "  <thead>\n",
       "    <tr style=\"text-align: right;\">\n",
       "      <th></th>\n",
       "      <th>true</th>\n",
       "      <th>score_logreg</th>\n",
       "      <th>score_svm</th>\n",
       "      <th>score_knn</th>\n",
       "      <th>score_tree</th>\n",
       "    </tr>\n",
       "  </thead>\n",
       "  <tbody>\n",
       "    <tr>\n",
       "      <td>0</td>\n",
       "      <td>0</td>\n",
       "      <td>0.683832</td>\n",
       "      <td>0.145976</td>\n",
       "      <td>0.787063</td>\n",
       "      <td>0.500000</td>\n",
       "    </tr>\n",
       "    <tr>\n",
       "      <td>1</td>\n",
       "      <td>1</td>\n",
       "      <td>0.801966</td>\n",
       "      <td>0.239511</td>\n",
       "      <td>1.000000</td>\n",
       "      <td>0.833333</td>\n",
       "    </tr>\n",
       "    <tr>\n",
       "      <td>2</td>\n",
       "      <td>0</td>\n",
       "      <td>0.382315</td>\n",
       "      <td>-0.245701</td>\n",
       "      <td>0.000000</td>\n",
       "      <td>0.000000</td>\n",
       "    </tr>\n",
       "    <tr>\n",
       "      <td>3</td>\n",
       "      <td>1</td>\n",
       "      <td>0.506797</td>\n",
       "      <td>-0.137058</td>\n",
       "      <td>0.000000</td>\n",
       "      <td>0.105263</td>\n",
       "    </tr>\n",
       "    <tr>\n",
       "      <td>4</td>\n",
       "      <td>1</td>\n",
       "      <td>0.488781</td>\n",
       "      <td>-0.154148</td>\n",
       "      <td>0.000000</td>\n",
       "      <td>0.105263</td>\n",
       "    </tr>\n",
       "  </tbody>\n",
       "</table>\n",
       "</div>"
      ],
      "text/plain": [
       "   true  score_logreg  score_svm  score_knn  score_tree\n",
       "0     0      0.683832   0.145976   0.787063    0.500000\n",
       "1     1      0.801966   0.239511   1.000000    0.833333\n",
       "2     0      0.382315  -0.245701   0.000000    0.000000\n",
       "3     1      0.506797  -0.137058   0.000000    0.105263\n",
       "4     1      0.488781  -0.154148   0.000000    0.105263"
      ]
     },
     "execution_count": 28,
     "metadata": {},
     "output_type": "execute_result"
    }
   ],
   "source": [
    "scores = pd.read_csv('scores.csv')\n",
    "scores.head()"
   ]
  },
  {
   "cell_type": "code",
   "execution_count": 34,
   "metadata": {},
   "outputs": [
    {
     "name": "stdout",
     "output_type": "stream",
     "text": [
      "0.719187675070028 0.7086834733893557 0.6351540616246498 0.6919267707082833\n"
     ]
    }
   ],
   "source": [
    "print(roc_auc_score(scores['true'], scores['score_logreg']),\n",
    "roc_auc_score(scores['true'], scores['score_svm']),\n",
    "roc_auc_score(scores['true'], scores['score_knn']),\n",
    "roc_auc_score(scores['true'], scores['score_tree']))\n",
    "f = open('4.3.txt','w')\n",
    "f.write('score_logreg')\n",
    "f.close()"
   ]
  },
  {
   "cell_type": "code",
   "execution_count": 44,
   "metadata": {},
   "outputs": [],
   "source": [
    "b = precision_recall_curve(scores['true'], scores['score_logreg'])\n",
    "p1 = b[0][0]\n",
    "for i in range(len(b[0])):\n",
    "    if (b[1][i] >= 0.7):\n",
    "        p1 = max(p1, b[0][i])\n",
    "b = precision_recall_curve(scores['true'], scores['score_svm'])\n",
    "p2 = b[0][0]\n",
    "for i in range(len(b[0])):\n",
    "    if (b[1][i] >= 0.7):\n",
    "        p2 = max(p2, b[0][i])\n",
    "b = precision_recall_curve(scores['true'], scores['score_knn'])\n",
    "p3 = b[0][0]\n",
    "for i in range(len(b[0])):\n",
    "    if (b[1][i] >= 0.7):\n",
    "        p3 = max(p3, b[0][i])\n",
    "b = precision_recall_curve(scores['true'], scores['score_tree'])\n",
    "p4 = b[0][0]\n",
    "for i in range(len(b[0])):\n",
    "    if (b[1][i] >= 0.7):\n",
    "        p4 = max(p4, b[0][i])\n",
    "p1, p2, p3, p4\n",
    "f = open('4.4.txt', 'w')\n",
    "f.write('score_tree')\n",
    "f.close()"
   ]
  }
 ],
 "metadata": {
  "kernelspec": {
   "display_name": "Python 3",
   "language": "python",
   "name": "python3"
  },
  "language_info": {
   "codemirror_mode": {
    "name": "ipython",
    "version": 3
   },
   "file_extension": ".py",
   "mimetype": "text/x-python",
   "name": "python",
   "nbconvert_exporter": "python",
   "pygments_lexer": "ipython3",
   "version": "3.7.4"
  }
 },
 "nbformat": 4,
 "nbformat_minor": 2
}
