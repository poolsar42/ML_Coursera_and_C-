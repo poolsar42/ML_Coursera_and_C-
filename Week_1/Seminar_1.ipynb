{
 "cells": [
  {
   "cell_type": "code",
   "execution_count": 1,
   "metadata": {},
   "outputs": [],
   "source": [
    "import numpy as np"
   ]
  },
  {
   "cell_type": "markdown",
   "metadata": {},
   "source": [
    "### Генерация случайной матрицы"
   ]
  },
  {
   "cell_type": "code",
   "execution_count": 6,
   "metadata": {},
   "outputs": [],
   "source": [
    "#Функция генерации чисел из нормального распределения:\n",
    "np.random.normal()\n",
    "''' Параметры:\n",
    "    loc: среднее нормального распределения\n",
    "    scale: стандартное отклонение нормального распределения\n",
    "    size: размер матрицы\n",
    "'''\n",
    "X = np.random.normal(loc = 1, scale = 10, size = (1000, 50))"
   ]
  },
  {
   "cell_type": "markdown",
   "metadata": {},
   "source": [
    "### Нормировка матрицы"
   ]
  },
  {
   "cell_type": "code",
   "execution_count": 8,
   "metadata": {},
   "outputs": [
    {
     "name": "stdout",
     "output_type": "stream",
     "text": [
      "[[ 0.41836722  0.4472397  -0.31167373 ... -1.19979314  1.0517726\n",
      "  -0.2289963 ]\n",
      " [ 0.32768597 -1.20039109  1.06751472 ... -1.11365287  1.62838912\n",
      "  -1.19812926]\n",
      " [ 1.13902182  0.29949183 -0.46014484 ... -0.00326748 -1.36451461\n",
      "   0.27704073]\n",
      " ...\n",
      " [ 0.20087834  0.02325404  1.67288394 ...  2.67723072  0.18511435\n",
      "  -1.33518578]\n",
      " [-0.87037264  0.52587633  0.29547765 ... -1.30965487 -2.00558753\n",
      "  -1.95451788]\n",
      " [ 0.84786006 -0.9479706  -0.4849224  ...  0.67039814 -0.17300539\n",
      "   0.46148876]]\n"
     ]
    }
   ],
   "source": [
    "#Функция для вычисления среднего: \n",
    "''' np.mean() '''\n",
    "#Функция для вычисления стандартного отклонения: \n",
    "''' np.std() '''\n",
    "''' Первый параметр — матрица, для которой производятся вычисления. \n",
    "Также полезным будет параметр axis, который указывает,\n",
    "по какому измерению вычисляются среднее и стандартное отклонение\n",
    "(если axis=0, то по столбцам, если axis=1, то по строкам; если его не указывать,\n",
    "то данные величины будут вычислены по всей матрице). \n",
    "'''\n",
    "m = np.mean(X, axis=0)\n",
    "std = np.std(X, axis=0)\n",
    "X_norm = ((X - m)  / std)\n",
    "print (X_norm)"
   ]
  },
  {
   "cell_type": "markdown",
   "metadata": {},
   "source": [
    "### Операции над элементами матрицы"
   ]
  },
  {
   "cell_type": "code",
   "execution_count": 11,
   "metadata": {},
   "outputs": [
    {
     "name": "stdout",
     "output_type": "stream",
     "text": [
      "(array([1, 4, 5]),)\n"
     ]
    }
   ],
   "source": [
    "'''\n",
    "Функция для подсчета суммы: \n",
    "np.sum\n",
    "Аргументы аналогичны функциям  np.mean и np.std.\n",
    "\n",
    "К матрицам можно применять логические операции,\n",
    "которые будут применяться поэлементно.\n",
    "Соответственно, результатом такой операции будет матрица такого же размера,\n",
    "в ячейках которой будет записано либо True, либо False.\n",
    "Индексы элементов со значением True можно получить с помощью функции np.nonzero.\n",
    "'''\n",
    "\n",
    "Z = np.array([[4, 5, 0], \n",
    "             [1, 9, 3],              \n",
    "             [5, 1, 1],\n",
    "             [3, 3, 3], \n",
    "             [9, 9, 9], \n",
    "             [4, 7, 1]])\n",
    "r = np.sum(Z, axis=1)\n",
    "print (np.nonzero(r > 10))"
   ]
  },
  {
   "cell_type": "markdown",
   "metadata": {},
   "source": [
    "### Объединение матриц"
   ]
  },
  {
   "cell_type": "code",
   "execution_count": 15,
   "metadata": {},
   "outputs": [
    {
     "name": "stdout",
     "output_type": "stream",
     "text": [
      "[[1. 0. 0.]\n",
      " [0. 1. 0.]\n",
      " [0. 0. 1.]]\n",
      "[[1. 0. 0.]\n",
      " [0. 1. 0.]\n",
      " [0. 0. 1.]]\n",
      "[[1. 0. 0.]\n",
      " [0. 1. 0.]\n",
      " [0. 0. 1.]\n",
      " [1. 0. 0.]\n",
      " [0. 1. 0.]\n",
      " [0. 0. 1.]]\n"
     ]
    }
   ],
   "source": [
    "'''\n",
    "Функция для генерации единичной матрицы: np.eye\n",
    "\n",
    "Аргумент: число строк (или, что эквивалентно, столбцов).\n",
    "\n",
    "Функция для вертикальной стыковки матриц: np.vstack((A, B))\n",
    "'''\n",
    "A = np.eye(3)\n",
    "B = np.eye(3)\n",
    "print (A)\n",
    "print (B)\n",
    "\n",
    "AB = np.vstack((A, B))\n",
    "print (AB)"
   ]
  },
  {
   "cell_type": "markdown",
   "metadata": {},
   "source": [
    "### Пример использования решающих деревьев в SkLearn"
   ]
  },
  {
   "cell_type": "code",
   "execution_count": 1,
   "metadata": {},
   "outputs": [
    {
     "data": {
      "text/plain": [
       "DecisionTreeClassifier()"
      ]
     },
     "execution_count": 1,
     "metadata": {},
     "output_type": "execute_result"
    }
   ],
   "source": [
    "import numpy as np\n",
    "from sklearn.tree import DecisionTreeClassifier\n",
    "X = np.array([[1, 2], [3, 4], [5, 6]])\n",
    "y = np.array([0, 1, 0])\n",
    "clf = DecisionTreeClassifier()\n",
    "clf.fit(X, y)"
   ]
  },
  {
   "cell_type": "code",
   "execution_count": 2,
   "metadata": {},
   "outputs": [],
   "source": [
    "### Классификатор важности признаков"
   ]
  },
  {
   "cell_type": "code",
   "execution_count": 3,
   "metadata": {},
   "outputs": [],
   "source": [
    "importances = clf.feature_importances_"
   ]
  },
  {
   "cell_type": "code",
   "execution_count": 5,
   "metadata": {},
   "outputs": [
    {
     "data": {
      "text/plain": [
       "' \\nПеременная importances будет содержать массив \"важностей\" признаков.\\nИндекс в этом массиве соответствует индексу признака в данных.\\n\\nСтоит обратить внимание, что данные могут содержать пропуски.\\nPandas хранит такие значения как nan (not a number).\\nДля того, чтобы проверить, является ли число nan\\'ом, можно воспользоваться функцией np.isnan.\\n'"
      ]
     },
     "execution_count": 5,
     "metadata": {},
     "output_type": "execute_result"
    }
   ],
   "source": [
    "''' \n",
    "Переменная importances будет содержать массив \"важностей\" признаков.\n",
    "Индекс в этом массиве соответствует индексу признака в данных.\n",
    "\n",
    "Стоит обратить внимание, что данные могут содержать пропуски.\n",
    "Pandas хранит такие значения как nan (not a number).\n",
    "Для того, чтобы проверить, является ли число nan'ом, можно воспользоваться функцией np.isnan.\n",
    "'''"
   ]
  },
  {
   "cell_type": "code",
   "execution_count": 6,
   "metadata": {},
   "outputs": [
    {
     "data": {
      "text/plain": [
       "array([[False, False],\n",
       "       [False, False],\n",
       "       [False, False]])"
      ]
     },
     "execution_count": 6,
     "metadata": {},
     "output_type": "execute_result"
    }
   ],
   "source": [
    "np.isnan(X)"
   ]
  }
 ],
 "metadata": {
  "kernelspec": {
   "display_name": "Python 3",
   "language": "python",
   "name": "python3"
  },
  "language_info": {
   "codemirror_mode": {
    "name": "ipython",
    "version": 3
   },
   "file_extension": ".py",
   "mimetype": "text/x-python",
   "name": "python",
   "nbconvert_exporter": "python",
   "pygments_lexer": "ipython3",
   "version": "3.7.4"
  }
 },
 "nbformat": 4,
 "nbformat_minor": 2
}
