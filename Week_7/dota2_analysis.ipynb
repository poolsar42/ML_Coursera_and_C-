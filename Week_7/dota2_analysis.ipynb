{
 "cells": [
  {
   "cell_type": "code",
   "execution_count": 2,
   "metadata": {},
   "outputs": [],
   "source": [
    "import pandas as pd\n",
    "import numpy as np\n",
    "from sklearn.model_selection import KFold, cross_val_score, GridSearchCV\n",
    "from sklearn.ensemble import GradientBoostingClassifier\n",
    "from sklearn.metrics import roc_auc_score\n",
    "from sklearn.linear_model import LogisticRegression\n",
    "from sklearn.preprocessing import StandardScaler\n",
    "import time\n",
    "import datetime"
   ]
  },
  {
   "cell_type": "code",
   "execution_count": 3,
   "metadata": {},
   "outputs": [],
   "source": [
    "features = pd.read_csv('./features.csv', index_col='match_id')\n",
    "features_test = pd.read_csv('features_test.csv', index_col = 'match_id')"
   ]
  },
  {
   "cell_type": "code",
   "execution_count": 4,
   "metadata": {},
   "outputs": [
    {
     "data": {
      "text/html": [
       "<div>\n",
       "<style scoped>\n",
       "    .dataframe tbody tr th:only-of-type {\n",
       "        vertical-align: middle;\n",
       "    }\n",
       "\n",
       "    .dataframe tbody tr th {\n",
       "        vertical-align: top;\n",
       "    }\n",
       "\n",
       "    .dataframe thead th {\n",
       "        text-align: right;\n",
       "    }\n",
       "</style>\n",
       "<table border=\"1\" class=\"dataframe\">\n",
       "  <thead>\n",
       "    <tr style=\"text-align: right;\">\n",
       "      <th></th>\n",
       "      <th>start_time</th>\n",
       "      <th>lobby_type</th>\n",
       "      <th>r1_hero</th>\n",
       "      <th>r1_level</th>\n",
       "      <th>r1_xp</th>\n",
       "      <th>r1_gold</th>\n",
       "      <th>r1_lh</th>\n",
       "      <th>r1_kills</th>\n",
       "      <th>r1_deaths</th>\n",
       "      <th>r1_items</th>\n",
       "      <th>...</th>\n",
       "      <th>dire_boots_count</th>\n",
       "      <th>dire_ward_observer_count</th>\n",
       "      <th>dire_ward_sentry_count</th>\n",
       "      <th>dire_first_ward_time</th>\n",
       "      <th>duration</th>\n",
       "      <th>radiant_win</th>\n",
       "      <th>tower_status_radiant</th>\n",
       "      <th>tower_status_dire</th>\n",
       "      <th>barracks_status_radiant</th>\n",
       "      <th>barracks_status_dire</th>\n",
       "    </tr>\n",
       "    <tr>\n",
       "      <th>match_id</th>\n",
       "      <th></th>\n",
       "      <th></th>\n",
       "      <th></th>\n",
       "      <th></th>\n",
       "      <th></th>\n",
       "      <th></th>\n",
       "      <th></th>\n",
       "      <th></th>\n",
       "      <th></th>\n",
       "      <th></th>\n",
       "      <th></th>\n",
       "      <th></th>\n",
       "      <th></th>\n",
       "      <th></th>\n",
       "      <th></th>\n",
       "      <th></th>\n",
       "      <th></th>\n",
       "      <th></th>\n",
       "      <th></th>\n",
       "      <th></th>\n",
       "      <th></th>\n",
       "    </tr>\n",
       "  </thead>\n",
       "  <tbody>\n",
       "    <tr>\n",
       "      <td>0</td>\n",
       "      <td>1430198770</td>\n",
       "      <td>7</td>\n",
       "      <td>11</td>\n",
       "      <td>5</td>\n",
       "      <td>2098</td>\n",
       "      <td>1489</td>\n",
       "      <td>20</td>\n",
       "      <td>0</td>\n",
       "      <td>0</td>\n",
       "      <td>7</td>\n",
       "      <td>...</td>\n",
       "      <td>4</td>\n",
       "      <td>2</td>\n",
       "      <td>2</td>\n",
       "      <td>-52.0</td>\n",
       "      <td>2874</td>\n",
       "      <td>1</td>\n",
       "      <td>1796</td>\n",
       "      <td>0</td>\n",
       "      <td>51</td>\n",
       "      <td>0</td>\n",
       "    </tr>\n",
       "    <tr>\n",
       "      <td>1</td>\n",
       "      <td>1430220345</td>\n",
       "      <td>0</td>\n",
       "      <td>42</td>\n",
       "      <td>4</td>\n",
       "      <td>1188</td>\n",
       "      <td>1033</td>\n",
       "      <td>9</td>\n",
       "      <td>0</td>\n",
       "      <td>1</td>\n",
       "      <td>12</td>\n",
       "      <td>...</td>\n",
       "      <td>4</td>\n",
       "      <td>3</td>\n",
       "      <td>1</td>\n",
       "      <td>-5.0</td>\n",
       "      <td>2463</td>\n",
       "      <td>1</td>\n",
       "      <td>1974</td>\n",
       "      <td>0</td>\n",
       "      <td>63</td>\n",
       "      <td>1</td>\n",
       "    </tr>\n",
       "    <tr>\n",
       "      <td>2</td>\n",
       "      <td>1430227081</td>\n",
       "      <td>7</td>\n",
       "      <td>33</td>\n",
       "      <td>4</td>\n",
       "      <td>1319</td>\n",
       "      <td>1270</td>\n",
       "      <td>22</td>\n",
       "      <td>0</td>\n",
       "      <td>0</td>\n",
       "      <td>12</td>\n",
       "      <td>...</td>\n",
       "      <td>4</td>\n",
       "      <td>3</td>\n",
       "      <td>1</td>\n",
       "      <td>13.0</td>\n",
       "      <td>2130</td>\n",
       "      <td>0</td>\n",
       "      <td>0</td>\n",
       "      <td>1830</td>\n",
       "      <td>0</td>\n",
       "      <td>63</td>\n",
       "    </tr>\n",
       "    <tr>\n",
       "      <td>3</td>\n",
       "      <td>1430263531</td>\n",
       "      <td>1</td>\n",
       "      <td>29</td>\n",
       "      <td>4</td>\n",
       "      <td>1779</td>\n",
       "      <td>1056</td>\n",
       "      <td>14</td>\n",
       "      <td>0</td>\n",
       "      <td>0</td>\n",
       "      <td>5</td>\n",
       "      <td>...</td>\n",
       "      <td>4</td>\n",
       "      <td>2</td>\n",
       "      <td>0</td>\n",
       "      <td>27.0</td>\n",
       "      <td>1459</td>\n",
       "      <td>0</td>\n",
       "      <td>1920</td>\n",
       "      <td>2047</td>\n",
       "      <td>50</td>\n",
       "      <td>63</td>\n",
       "    </tr>\n",
       "    <tr>\n",
       "      <td>4</td>\n",
       "      <td>1430282290</td>\n",
       "      <td>7</td>\n",
       "      <td>13</td>\n",
       "      <td>4</td>\n",
       "      <td>1431</td>\n",
       "      <td>1090</td>\n",
       "      <td>8</td>\n",
       "      <td>1</td>\n",
       "      <td>0</td>\n",
       "      <td>8</td>\n",
       "      <td>...</td>\n",
       "      <td>3</td>\n",
       "      <td>3</td>\n",
       "      <td>0</td>\n",
       "      <td>-16.0</td>\n",
       "      <td>2449</td>\n",
       "      <td>0</td>\n",
       "      <td>4</td>\n",
       "      <td>1974</td>\n",
       "      <td>3</td>\n",
       "      <td>63</td>\n",
       "    </tr>\n",
       "  </tbody>\n",
       "</table>\n",
       "<p>5 rows × 108 columns</p>\n",
       "</div>"
      ],
      "text/plain": [
       "          start_time  lobby_type  r1_hero  r1_level  r1_xp  r1_gold  r1_lh  \\\n",
       "match_id                                                                     \n",
       "0         1430198770           7       11         5   2098     1489     20   \n",
       "1         1430220345           0       42         4   1188     1033      9   \n",
       "2         1430227081           7       33         4   1319     1270     22   \n",
       "3         1430263531           1       29         4   1779     1056     14   \n",
       "4         1430282290           7       13         4   1431     1090      8   \n",
       "\n",
       "          r1_kills  r1_deaths  r1_items  ...  dire_boots_count  \\\n",
       "match_id                                 ...                     \n",
       "0                0          0         7  ...                 4   \n",
       "1                0          1        12  ...                 4   \n",
       "2                0          0        12  ...                 4   \n",
       "3                0          0         5  ...                 4   \n",
       "4                1          0         8  ...                 3   \n",
       "\n",
       "          dire_ward_observer_count  dire_ward_sentry_count  \\\n",
       "match_id                                                     \n",
       "0                                2                       2   \n",
       "1                                3                       1   \n",
       "2                                3                       1   \n",
       "3                                2                       0   \n",
       "4                                3                       0   \n",
       "\n",
       "          dire_first_ward_time  duration  radiant_win  tower_status_radiant  \\\n",
       "match_id                                                                      \n",
       "0                        -52.0      2874            1                  1796   \n",
       "1                         -5.0      2463            1                  1974   \n",
       "2                         13.0      2130            0                     0   \n",
       "3                         27.0      1459            0                  1920   \n",
       "4                        -16.0      2449            0                     4   \n",
       "\n",
       "          tower_status_dire  barracks_status_radiant  barracks_status_dire  \n",
       "match_id                                                                    \n",
       "0                         0                       51                     0  \n",
       "1                         0                       63                     1  \n",
       "2                      1830                        0                    63  \n",
       "3                      2047                       50                    63  \n",
       "4                      1974                        3                    63  \n",
       "\n",
       "[5 rows x 108 columns]"
      ]
     },
     "execution_count": 4,
     "metadata": {},
     "output_type": "execute_result"
    }
   ],
   "source": [
    "features.head()"
   ]
  },
  {
   "cell_type": "code",
   "execution_count": 413,
   "metadata": {},
   "outputs": [],
   "source": [
    "y = features['radiant_win'] \n",
    "features.drop(['duration', 'radiant_win', 'tower_status_radiant', 'tower_status_dire', 'barracks_status_radiant', 'barracks_status_dire'], axis='columns', inplace=True)"
   ]
  },
  {
   "cell_type": "code",
   "execution_count": 414,
   "metadata": {},
   "outputs": [
    {
     "data": {
      "text/plain": [
       "start_time                  97230\n",
       "lobby_type                  97230\n",
       "r1_hero                     97230\n",
       "r1_level                    97230\n",
       "r1_xp                       97230\n",
       "                            ...  \n",
       "dire_tpscroll_count         97230\n",
       "dire_boots_count            97230\n",
       "dire_ward_observer_count    97230\n",
       "dire_ward_sentry_count      97230\n",
       "dire_first_ward_time        95404\n",
       "Length: 102, dtype: int64"
      ]
     },
     "execution_count": 414,
     "metadata": {},
     "output_type": "execute_result"
    }
   ],
   "source": [
    "features.count()"
   ]
  },
  {
   "cell_type": "code",
   "execution_count": 415,
   "metadata": {},
   "outputs": [],
   "source": [
    "X = features.fillna(0.)\n",
    "X_test = features_test.fillna(0.)"
   ]
  },
  {
   "cell_type": "markdown",
   "metadata": {},
   "source": [
    "# Градиентный бустинг"
   ]
  },
  {
   "cell_type": "code",
   "execution_count": 416,
   "metadata": {},
   "outputs": [
    {
     "name": "stdout",
     "output_type": "stream",
     "text": [
      "      Iter       Train Loss   Remaining Time \n",
      "         1           1.3729           10.17s\n",
      "         2           1.3637            8.80s\n",
      "         3           1.3543            7.68s\n",
      "         4           1.3466            6.59s\n",
      "         5           1.3387            5.39s\n",
      "         6           1.3322            4.28s\n",
      "         7           1.3257            3.23s\n",
      "         8           1.3194            2.14s\n",
      "         9           1.3141            1.06s\n",
      "        10           1.3089            0.00s\n",
      "      Iter       Train Loss   Remaining Time \n",
      "         1           1.3728            8.05s\n",
      "         2           1.3632            7.00s\n",
      "         3           1.3535            5.95s\n",
      "         4           1.3446            5.03s\n",
      "         5           1.3372            4.26s\n",
      "         6           1.3302            3.38s\n",
      "         7           1.3236            2.52s\n",
      "         8           1.3176            1.67s\n",
      "         9           1.3123            0.83s\n",
      "        10           1.3072            0.00s\n",
      "      Iter       Train Loss   Remaining Time \n",
      "         1           1.3730            7.46s\n",
      "         2           1.3636            6.52s\n",
      "         3           1.3537            5.71s\n",
      "         4           1.3459            4.89s\n",
      "         5           1.3381            4.07s\n",
      "         6           1.3309            3.25s\n",
      "         7           1.3242            2.43s\n",
      "         8           1.3183            1.62s\n",
      "         9           1.3127            0.81s\n",
      "        10           1.3076            0.00s\n",
      "      Iter       Train Loss   Remaining Time \n",
      "         1           1.3726            7.41s\n",
      "         2           1.3633            6.57s\n",
      "         3           1.3534            6.21s\n",
      "         4           1.3449            5.71s\n",
      "         5           1.3368            4.65s\n",
      "         6           1.3298            3.71s\n",
      "         7           1.3232            2.78s\n",
      "         8           1.3174            1.85s\n",
      "         9           1.3117            0.92s\n",
      "        10           1.3070            0.00s\n",
      "      Iter       Train Loss   Remaining Time \n",
      "         1           1.3728            8.45s\n",
      "         2           1.3632            7.48s\n",
      "         3           1.3538            6.66s\n",
      "         4           1.3449            5.73s\n",
      "         5           1.3373            4.85s\n",
      "         6           1.3304            3.90s\n",
      "         7           1.3245            2.92s\n",
      "         8           1.3184            1.95s\n",
      "         9           1.3128            0.97s\n",
      "        10           1.3078            0.00s\n",
      "      Iter       Train Loss   Remaining Time \n",
      "         1           1.3726            8.37s\n",
      "         2           1.3629            7.41s\n",
      "         3           1.3535            6.44s\n",
      "         4           1.3450            5.60s\n",
      "         5           1.3376            4.63s\n",
      "         6           1.3307            3.67s\n",
      "         7           1.3244            2.74s\n",
      "         8           1.3184            1.82s\n",
      "         9           1.3127            0.91s\n",
      "        10           1.3077            0.00s\n",
      "      Iter       Train Loss   Remaining Time \n",
      "         1           1.3729           22.43s\n",
      "         2           1.3637           20.78s\n",
      "         3           1.3543           19.54s\n",
      "         4           1.3466           18.46s\n",
      "         5           1.3387           17.46s\n",
      "         6           1.3322           16.81s\n",
      "         7           1.3257           15.76s\n",
      "         8           1.3194           14.48s\n",
      "         9           1.3141           13.24s\n",
      "        10           1.3089           11.99s\n",
      "        20           1.2747            0.00s\n",
      "      Iter       Train Loss   Remaining Time \n",
      "         1           1.3728           17.87s\n",
      "         2           1.3632           16.77s\n",
      "         3           1.3535           15.80s\n",
      "         4           1.3446           14.86s\n",
      "         5           1.3372           13.93s\n",
      "         6           1.3302           13.04s\n",
      "         7           1.3236           12.08s\n",
      "         8           1.3176           11.14s\n",
      "         9           1.3123           10.19s\n",
      "        10           1.3072            9.27s\n",
      "        20           1.2720            0.00s\n",
      "      Iter       Train Loss   Remaining Time \n",
      "         1           1.3730           19.95s\n",
      "         2           1.3636           19.25s\n",
      "         3           1.3537           17.87s\n",
      "         4           1.3459           16.86s\n",
      "         5           1.3381           15.55s\n",
      "         6           1.3309           14.36s\n",
      "         7           1.3242           13.19s\n",
      "         8           1.3183           12.06s\n",
      "         9           1.3127           11.00s\n",
      "        10           1.3076           10.05s\n",
      "        20           1.2732            0.00s\n",
      "      Iter       Train Loss   Remaining Time \n",
      "         1           1.3726           18.44s\n",
      "         2           1.3633           18.42s\n",
      "         3           1.3534           16.93s\n",
      "         4           1.3449           15.73s\n",
      "         5           1.3368           14.62s\n",
      "         6           1.3298           13.59s\n",
      "         7           1.3232           12.62s\n",
      "         8           1.3174           11.60s\n",
      "         9           1.3117           10.75s\n",
      "        10           1.3070            9.85s\n",
      "        20           1.2722            0.00s\n",
      "      Iter       Train Loss   Remaining Time \n",
      "         1           1.3728           22.17s\n",
      "         2           1.3632           22.01s\n",
      "         3           1.3538           19.59s\n",
      "         4           1.3449           17.82s\n",
      "         5           1.3373           16.92s\n",
      "         6           1.3304           16.05s\n",
      "         7           1.3245           14.95s\n",
      "         8           1.3184           13.69s\n",
      "         9           1.3128           12.35s\n",
      "        10           1.3078           11.08s\n",
      "        20           1.2736            0.00s\n",
      "      Iter       Train Loss   Remaining Time \n",
      "         1           1.3726           21.27s\n",
      "         2           1.3629           19.82s\n",
      "         3           1.3535           18.63s\n",
      "         4           1.3450           16.96s\n",
      "         5           1.3376           15.59s\n",
      "         6           1.3307           14.35s\n",
      "         7           1.3244           13.24s\n",
      "         8           1.3184           12.25s\n",
      "         9           1.3127           11.22s\n",
      "        10           1.3077           10.19s\n",
      "        20           1.2736            0.00s\n",
      "      Iter       Train Loss   Remaining Time \n",
      "         1           1.3729           37.41s\n",
      "         2           1.3637           35.16s\n",
      "         3           1.3543           33.27s\n",
      "         4           1.3466           33.21s\n",
      "         5           1.3387           31.47s\n",
      "         6           1.3322           29.77s\n",
      "         7           1.3257           28.22s\n",
      "         8           1.3194           26.79s\n",
      "         9           1.3141           25.38s\n",
      "        10           1.3089           24.07s\n",
      "        20           1.2747           11.95s\n",
      "        30           1.2550            0.00s\n",
      "      Iter       Train Loss   Remaining Time \n",
      "         1           1.3728           31.03s\n",
      "         2           1.3632           28.77s\n",
      "         3           1.3535           27.32s\n",
      "         4           1.3446           26.00s\n",
      "         5           1.3372           25.03s\n",
      "         6           1.3302           23.12s\n",
      "         7           1.3236           21.56s\n",
      "         8           1.3176           20.15s\n",
      "         9           1.3123           18.87s\n",
      "        10           1.3072           17.69s\n",
      "        20           1.2720            8.34s\n",
      "        30           1.2527            0.00s\n",
      "      Iter       Train Loss   Remaining Time \n",
      "         1           1.3730           23.00s\n",
      "         2           1.3636           22.00s\n",
      "         3           1.3537           21.10s\n",
      "         4           1.3459           20.34s\n",
      "         5           1.3381           19.64s\n",
      "         6           1.3309           19.00s\n",
      "         7           1.3242           18.37s\n",
      "         8           1.3183           17.58s\n",
      "         9           1.3127           16.76s\n",
      "        10           1.3076           15.92s\n",
      "        20           1.2732            7.93s\n",
      "        30           1.2532            0.00s\n",
      "      Iter       Train Loss   Remaining Time \n",
      "         1           1.3726           23.83s\n",
      "         2           1.3633           22.72s\n",
      "         3           1.3534           21.84s\n",
      "         4           1.3449           21.03s\n"
     ]
    },
    {
     "name": "stdout",
     "output_type": "stream",
     "text": [
      "         5           1.3368           20.27s\n",
      "         6           1.3298           19.34s\n",
      "         7           1.3232           18.45s\n",
      "         8           1.3174           17.59s\n",
      "         9           1.3117           16.76s\n",
      "        10           1.3070           16.01s\n",
      "        20           1.2722            8.02s\n",
      "        30           1.2517            0.00s\n",
      "      Iter       Train Loss   Remaining Time \n",
      "         1           1.3728           24.41s\n",
      "         2           1.3632           23.37s\n",
      "         3           1.3538           22.35s\n",
      "         4           1.3449           21.81s\n",
      "         5           1.3373           20.88s\n",
      "         6           1.3304           20.04s\n",
      "         7           1.3245           19.17s\n",
      "         8           1.3184           18.30s\n",
      "         9           1.3128           17.49s\n",
      "        10           1.3078           16.67s\n",
      "        20           1.2736            8.26s\n",
      "        30           1.2543            0.00s\n",
      "      Iter       Train Loss   Remaining Time \n",
      "         1           1.3726           29.84s\n",
      "         2           1.3629           26.10s\n",
      "         3           1.3535           25.72s\n",
      "         4           1.3450           26.02s\n",
      "         5           1.3376           24.83s\n",
      "         6           1.3307           23.24s\n",
      "         7           1.3244           21.87s\n",
      "         8           1.3184           20.71s\n",
      "         9           1.3127           19.58s\n",
      "        10           1.3077           18.50s\n",
      "        20           1.2736            8.74s\n",
      "        30           1.2536            0.00s\n"
     ]
    }
   ],
   "source": [
    "kf = KFold(n_splits=5, shuffle=True, random_state=42)\n",
    "coeffs = []\n",
    "times = []\n",
    "for i in range(10, 31, 10):\n",
    "    start_time = datetime.datetime.now()\n",
    "    clf = GradientBoostingClassifier(n_estimators=i, verbose=True, random_state=42, learning_rate=0.2)\n",
    "    clf.fit(X, y)\n",
    "    times.append(datetime.datetime.now() - start_time)\n",
    "    coeffs.append(cross_val_score(clf, X, y, scoring = 'roc_auc', cv=kf))"
   ]
  },
  {
   "cell_type": "code",
   "execution_count": 417,
   "metadata": {},
   "outputs": [
    {
     "name": "stdout",
     "output_type": "stream",
     "text": [
      "[datetime.timedelta(seconds=11, microseconds=251128), datetime.timedelta(seconds=23, microseconds=522712), datetime.timedelta(seconds=37, microseconds=130228)]\n",
      "0.6771099027716354\n",
      "0.6912158873482319\n",
      "0.6981202288645131\n"
     ]
    }
   ],
   "source": [
    "print(times)\n",
    "for coeff in coeffs:\n",
    "    print(np.mean(coeff))"
   ]
  },
  {
   "cell_type": "markdown",
   "metadata": {},
   "source": [
    "# Логистическая регрессия"
   ]
  },
  {
   "cell_type": "code",
   "execution_count": 418,
   "metadata": {},
   "outputs": [],
   "source": [
    "scaler = StandardScaler()\n",
    "X_for_log = X.copy()\n",
    "X_for_log.drop(['lobby_type', 'r1_hero', 'r2_hero', 'r3_hero', 'r4_hero', 'r5_hero', 'd1_hero', 'd2_hero', 'd3_hero', 'd4_hero', 'd5_hero'], axis='columns', inplace=True)\n",
    "scaler.fit(X)\n",
    "X_fit = scaler.transform(X)\n",
    "scaler.fit(X_for_log)\n",
    "X_for_log_fit = scaler.transform(X_for_log)"
   ]
  },
  {
   "cell_type": "code",
   "execution_count": 419,
   "metadata": {},
   "outputs": [
    {
     "name": "stdout",
     "output_type": "stream",
     "text": [
      "0.7165221087939807\n"
     ]
    }
   ],
   "source": [
    "kf = KFold(n_splits=5, shuffle=True, random_state=42)\n",
    "clf = LogisticRegression(penalty = 'l2')\n",
    "clf.fit(X_fit, y)\n",
    "print(np.mean(cross_val_score(clf, X_fit, y, scoring = 'roc_auc', cv=kf)))"
   ]
  },
  {
   "cell_type": "code",
   "execution_count": 420,
   "metadata": {},
   "outputs": [
    {
     "name": "stdout",
     "output_type": "stream",
     "text": [
      "0.7165303443778955\n"
     ]
    }
   ],
   "source": [
    "kf = KFold(n_splits=5, shuffle=True, random_state=42)\n",
    "clf = LogisticRegression(penalty = 'l2')\n",
    "clf.fit(X_for_log_fit, y)\n",
    "print(np.mean(cross_val_score(clf, X_for_log_fit, y, scoring = 'roc_auc', cv=kf)))"
   ]
  },
  {
   "cell_type": "code",
   "execution_count": 421,
   "metadata": {},
   "outputs": [],
   "source": [
    "N = len(np.unique(np.array(X['r1_hero'])))\n",
    "heroes = np.unique(np.array(X['r1_hero']))\n",
    "\n",
    "X_pick = np.zeros((X.shape[0], 112))\n",
    "\n",
    "for i, match_id in enumerate(X.index):\n",
    "    for p in range(5):\n",
    "        X_pick[i, X.loc[match_id, 'r%d_hero' % (p+1)] - 1] = 1\n",
    "        X_pick[i, X.loc[match_id, 'd%d_hero' % (p+1)] - 1] = -1"
   ]
  },
  {
   "cell_type": "code",
   "execution_count": 422,
   "metadata": {},
   "outputs": [],
   "source": [
    "X_pick = X_pick.T"
   ]
  },
  {
   "cell_type": "code",
   "execution_count": 423,
   "metadata": {},
   "outputs": [],
   "source": [
    "l = 0\n",
    "\n",
    "for i in range(112):\n",
    "    if i + 1 not in heroes:\n",
    "        X_pick = np.delete(X_pick, i - l, 0)\n",
    "        l += 1"
   ]
  },
  {
   "cell_type": "code",
   "execution_count": 424,
   "metadata": {},
   "outputs": [],
   "source": [
    "X_pick = X_pick.T"
   ]
  },
  {
   "cell_type": "code",
   "execution_count": 425,
   "metadata": {},
   "outputs": [],
   "source": [
    "col = []\n",
    "for i in range(108):\n",
    "    col.append('hero_' + str(i))\n",
    "col = np.array(col)\n",
    "lkey = X_for_log.index"
   ]
  },
  {
   "cell_type": "code",
   "execution_count": 426,
   "metadata": {},
   "outputs": [],
   "source": [
    "X_pick = pd.DataFrame(data = X_pick,\n",
    "                      index = lkey,\n",
    "                      columns = col)"
   ]
  },
  {
   "cell_type": "code",
   "execution_count": 427,
   "metadata": {},
   "outputs": [],
   "source": [
    "train = X_for_log.merge(X_pick, left_on = 'match_id', right_on = 'match_id')"
   ]
  },
  {
   "cell_type": "code",
   "execution_count": 428,
   "metadata": {},
   "outputs": [],
   "source": [
    "grid = {'C': np.power(10.0, np.arange(-5, 5))}\n",
    "clf = LogisticRegression(penalty = 'l2')\n",
    "gs = GridSearchCV(clf, grid, scoring='accuracy', cv=kf)\n",
    "gs.fit(X_for_log_fit, y)\n",
    "for a in gs.best_params_.keys():\n",
    "    C1 = gs.best_params_[a]"
   ]
  },
  {
   "cell_type": "code",
   "execution_count": 429,
   "metadata": {},
   "outputs": [
    {
     "name": "stdout",
     "output_type": "stream",
     "text": [
      "0.7516116548089558\n"
     ]
    }
   ],
   "source": [
    "scaler.fit(train)\n",
    "train_fit = scaler.transform(train)\n",
    "kf = KFold(n_splits=5, shuffle=True, random_state=42)\n",
    "clf = LogisticRegression(penalty = 'l2', C = C1)\n",
    "clf.fit(train_fit, y)\n",
    "print(np.mean(cross_val_score(clf, train_fit, y, scoring = 'roc_auc', cv=kf)))"
   ]
  },
  {
   "cell_type": "markdown",
   "metadata": {},
   "source": [
    "# Указание вероятности победы Radiant для тестовой выборки с помощью логистической регрессии"
   ]
  },
  {
   "cell_type": "code",
   "execution_count": 430,
   "metadata": {},
   "outputs": [],
   "source": [
    "X_for_log_test = X_test.copy()\n",
    "X_for_log_test.drop(['lobby_type', 'r1_hero', 'r2_hero', 'r3_hero', 'r4_hero', 'r5_hero', 'd1_hero', 'd2_hero', 'd3_hero', 'd4_hero', 'd5_hero'], axis='columns', inplace=True)"
   ]
  },
  {
   "cell_type": "code",
   "execution_count": 431,
   "metadata": {},
   "outputs": [],
   "source": [
    "N = len(np.unique(np.array(X_test['r1_hero'])))\n",
    "heroes = np.unique(np.array(X_test['r1_hero']))\n",
    "\n",
    "X_pick_test = np.zeros((X_test.shape[0], 112))\n",
    "\n",
    "for i, match_id in enumerate(X_test.index):\n",
    "    for p in range(5):\n",
    "        X_pick_test[i, X_test.loc[match_id, 'r%d_hero' % (p+1)] - 1] = 1\n",
    "        X_pick_test[i, X_test.loc[match_id, 'd%d_hero' % (p+1)] - 1] = -1\n"
   ]
  },
  {
   "cell_type": "code",
   "execution_count": 432,
   "metadata": {},
   "outputs": [],
   "source": [
    "X_pick_test = X_pick_test.T\n",
    "\n",
    "l = 0\n",
    "\n",
    "for i in range(112):\n",
    "    if i + 1 not in heroes:\n",
    "        X_pick_test = np.delete(X_pick_test, i - l, 0)\n",
    "        l += 1\n",
    "\n",
    "X_pick_test = X_pick_test.T\n"
   ]
  },
  {
   "cell_type": "code",
   "execution_count": 433,
   "metadata": {},
   "outputs": [],
   "source": [
    "col = []\n",
    "for i in range(108):\n",
    "    col.append('hero_' + str(i))\n",
    "col = np.array(col)\n",
    "lkey = X_for_log_test.index\n",
    "\n",
    "X_pick_test = pd.DataFrame(data = X_pick_test,\n",
    "                      index = lkey,\n",
    "                      columns = col)\n"
   ]
  },
  {
   "cell_type": "code",
   "execution_count": 434,
   "metadata": {},
   "outputs": [],
   "source": [
    "train_test = X_for_log_test.merge(X_pick_test, left_on = 'match_id', right_on = 'match_id')"
   ]
  },
  {
   "cell_type": "code",
   "execution_count": 435,
   "metadata": {},
   "outputs": [],
   "source": [
    "scaler.fit(train_test)\n",
    "train_test_fit = scaler.transform(train_test)\n",
    "pred = clf.predict_proba(train_test_fit)[:, 1]"
   ]
  },
  {
   "cell_type": "code",
   "execution_count": 436,
   "metadata": {},
   "outputs": [],
   "source": [
    "indexes = np.array(X_test.index)\n",
    "result = []"
   ]
  },
  {
   "cell_type": "code",
   "execution_count": 437,
   "metadata": {},
   "outputs": [],
   "source": [
    "for i in range(len(indexes)):\n",
    "    result.append([indexes[i], pred[i]])"
   ]
  },
  {
   "cell_type": "code",
   "execution_count": 438,
   "metadata": {},
   "outputs": [],
   "source": [
    "result = np.array(result)"
   ]
  },
  {
   "cell_type": "code",
   "execution_count": 441,
   "metadata": {},
   "outputs": [
    {
     "data": {
      "text/plain": [
       "(0.009937096275635118, 0.994870327312102)"
      ]
     },
     "execution_count": 441,
     "metadata": {},
     "output_type": "execute_result"
    }
   ],
   "source": [
    "min(result[:,1]), max(result[:,1])"
   ]
  }
 ],
 "metadata": {
  "kernelspec": {
   "display_name": "Python 3",
   "language": "python",
   "name": "python3"
  },
  "language_info": {
   "codemirror_mode": {
    "name": "ipython",
    "version": 3
   },
   "file_extension": ".py",
   "mimetype": "text/x-python",
   "name": "python",
   "nbconvert_exporter": "python",
   "pygments_lexer": "ipython3",
   "version": "3.7.4"
  }
 },
 "nbformat": 4,
 "nbformat_minor": 2
}
