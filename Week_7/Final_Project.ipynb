{
 "cells": [
  {
   "cell_type": "markdown",
   "metadata": {},
   "source": [
    "# Dota 2 Winner Prediction\n",
    "## 1. Предобработка данных "
   ]
  },
  {
   "cell_type": "code",
   "execution_count": 90,
   "metadata": {},
   "outputs": [
    {
     "name": "stdout",
     "output_type": "stream",
     "text": [
      "Populating the interactive namespace from numpy and matplotlib\n"
     ]
    }
   ],
   "source": [
    "import pandas as pd\n",
    "import numpy as np\n",
    "from sklearn import model_selection, metrics, ensemble\n",
    "\n",
    "%pylab inline"
   ]
  },
  {
   "cell_type": "code",
   "execution_count": 91,
   "metadata": {},
   "outputs": [],
   "source": [
    "X_train = pd.read_csv('train_features.csv', index_col='match_id_hash')\n",
    "y = pd.read_csv('train_targets.csv')\n",
    "y_train = y['radiant_win']"
   ]
  },
  {
   "cell_type": "code",
   "execution_count": 1,
   "metadata": {},
   "outputs": [
    {
     "ename": "NameError",
     "evalue": "name 'X_train' is not defined",
     "output_type": "error",
     "traceback": [
      "\u001b[0;31m---------------------------------------------------------------------------\u001b[0m",
      "\u001b[0;31mNameError\u001b[0m                                 Traceback (most recent call last)",
      "\u001b[0;32m<ipython-input-1-73020798007e>\u001b[0m in \u001b[0;36m<module>\u001b[0;34m\u001b[0m\n\u001b[0;32m----> 1\u001b[0;31m \u001b[0mX_train\u001b[0m\u001b[0;34m.\u001b[0m\u001b[0mhead\u001b[0m\u001b[0;34m(\u001b[0m\u001b[0;34m)\u001b[0m\u001b[0;34m\u001b[0m\u001b[0;34m\u001b[0m\u001b[0m\n\u001b[0m",
      "\u001b[0;31mNameError\u001b[0m: name 'X_train' is not defined"
     ]
    }
   ],
   "source": [
    "X_train.head()"
   ]
  },
  {
   "cell_type": "code",
   "execution_count": 93,
   "metadata": {},
   "outputs": [
    {
     "data": {
      "text/plain": [
       "0    False\n",
       "1     True\n",
       "2     True\n",
       "3     True\n",
       "4    False\n",
       "Name: radiant_win, dtype: bool"
      ]
     },
     "execution_count": 93,
     "metadata": {},
     "output_type": "execute_result"
    }
   ],
   "source": [
    "y_train.head()"
   ]
  },
  {
   "cell_type": "markdown",
   "metadata": {},
   "source": [
    "Проанализируем наши данные на пропуски"
   ]
  },
  {
   "cell_type": "code",
   "execution_count": 94,
   "metadata": {},
   "outputs": [
    {
     "data": {
      "text/plain": [
       "0"
      ]
     },
     "execution_count": 94,
     "metadata": {},
     "output_type": "execute_result"
    }
   ],
   "source": [
    "X_train.isna().sum().sum()"
   ]
  },
  {
   "cell_type": "markdown",
   "metadata": {},
   "source": [
    "## Подход 1: градиентный бустинг \"в лоб\""
   ]
  },
  {
   "cell_type": "code",
   "execution_count": null,
   "metadata": {},
   "outputs": [],
   "source": [
    "%%time\n",
    "\n",
    "number_of_trees = [10, 20, 30, 50, 100]\n",
    "\n",
    "kf = model_selection.KFold(n_splits=5, shuffle=True, random_state=241)\n",
    "\n",
    "scoring = []\n",
    "\n",
    "for num in number_of_trees:\n",
    "    classifier = ensemble.GradientBoostingClassifier(n_estimators=num, \n",
    "                                                     random_state=241)\n",
    "    score = model_selection.cross_val_score(X=X_train, y=y_train, cv=kf, \n",
    "                                            estimator=classifier, scoring='roc_auc')\n",
    "    scoring += [np.mean(score)]"
   ]
  },
  {
   "cell_type": "code",
   "execution_count": null,
   "metadata": {},
   "outputs": [],
   "source": [
    "scoring"
   ]
  },
  {
   "cell_type": "code",
   "execution_count": null,
   "metadata": {},
   "outputs": [],
   "source": [
    "pylab.plot(number_of_trees, scoring, \n",
    "           marker='.', label='GradientBoost')\n",
    "pylab.grid(True)\n",
    "pylab.xlabel('n_trees')\n",
    "pylab.ylabel('score')\n",
    "pylab.title('Accuracy score')\n",
    "pylab.legend(loc='lower right')"
   ]
  },
  {
   "cell_type": "markdown",
   "metadata": {},
   "source": [
    "## Подход 2: логистическая регрессия"
   ]
  },
  {
   "cell_type": "code",
   "execution_count": null,
   "metadata": {},
   "outputs": [],
   "source": [
    "%%time\n",
    "\n",
    "from sklearn import linear_model\n",
    "\n",
    "log_reg = linear_model.LogisticRegression(solver='saga')\n",
    "cv = model_selection.KFold(n_splits=5, shuffle=True, random_state=241)\n",
    "\n",
    "y_train = y_train.astype('float')\n",
    "\n",
    "score = model_selection.cross_val_score(X=X_train, y=y_train, cv=cv, \n",
    "                                            estimator=log_reg, scoring='roc_auc')"
   ]
  },
  {
   "cell_type": "code",
   "execution_count": null,
   "metadata": {},
   "outputs": [],
   "source": [
    "score"
   ]
  },
  {
   "cell_type": "code",
   "execution_count": null,
   "metadata": {},
   "outputs": [],
   "source": [
    "X_copy_t = X_train.copy()\n",
    "\n",
    "for x in range(1, 6):\n",
    "    del X_copy_t['r%d_hero_id' % x]\n",
    "    del X_copy_t['d%d_hero_id' % x]"
   ]
  },
  {
   "cell_type": "code",
   "execution_count": null,
   "metadata": {},
   "outputs": [],
   "source": [
    "from sklearn import preprocessing\n",
    "\n",
    "X_copy_t = preprocessing.normalize(X_copy_t)\n",
    "\n",
    "log_reg = linear_model.LogisticRegression(solver='liblinear')\n",
    "cv = model_selection.KFold(n_splits=5, shuffle=True, random_state=241)\n",
    "\n",
    "score = model_selection.cross_val_score(X=X_copy_t, y=y_train, cv=cv, \n",
    "                                            estimator=log_reg, scoring='roc_auc')"
   ]
  },
  {
   "cell_type": "code",
   "execution_count": null,
   "metadata": {},
   "outputs": [],
   "source": [
    "score"
   ]
  },
  {
   "cell_type": "code",
   "execution_count": null,
   "metadata": {},
   "outputs": [],
   "source": [
    "X_train['r1_hero_id'].max(), X_train['r1_hero_id'].min()\n",
    "X_train['r2_hero_id'].max(), X_train['r2_hero_id'].min()\n",
    "X_train['r3_hero_id'].max(), X_train['r3_hero_id'].min()\n",
    "\n",
    "N_hero = X_train['r3_hero_id'].max()\n",
    "N_hero"
   ]
  },
  {
   "cell_type": "code",
   "execution_count": null,
   "metadata": {},
   "outputs": [],
   "source": [
    "X_pick = np.zeros((X_train.shape[0], N_hero))\n",
    "\n",
    "for i, match_id in enumerate(X_train.index):\n",
    "    for p in range(5):\n",
    "        X_pick[i, int(X_train.loc[match_id]['r%d_hero_id' % (p+1)]-1)] = 1\n",
    "        X_pick[i, int(X_train.loc[match_id]['d%d_hero_id' % (p+1)]-1)] = -1"
   ]
  },
  {
   "cell_type": "code",
   "execution_count": null,
   "metadata": {},
   "outputs": [],
   "source": [
    "X_train_new = np.concatenate((X_copy_t, X_pick), axis=1)"
   ]
  },
  {
   "cell_type": "code",
   "execution_count": null,
   "metadata": {},
   "outputs": [],
   "source": [
    "X_train.shape[0] == X_train_new.shape[0]"
   ]
  },
  {
   "cell_type": "code",
   "execution_count": null,
   "metadata": {},
   "outputs": [],
   "source": [
    "log_reg = linear_model.LogisticRegression(solver='liblinear')\n",
    "cv = model_selection.KFold(n_splits=5, shuffle=True, random_state=241)\n",
    "\n",
    "score = model_selection.cross_val_score(X=X_train_new, y=y_train, cv=cv, \n",
    "                                            estimator=log_reg, scoring='roc_auc')"
   ]
  },
  {
   "cell_type": "code",
   "execution_count": null,
   "metadata": {},
   "outputs": [],
   "source": [
    "score"
   ]
  },
  {
   "cell_type": "code",
   "execution_count": null,
   "metadata": {},
   "outputs": [],
   "source": [
    "X_test = pd.read_csv('test_features.csv', index_col='match_id_hash')"
   ]
  },
  {
   "cell_type": "code",
   "execution_count": null,
   "metadata": {},
   "outputs": [],
   "source": [
    "X_copy_t = X_test.copy()\n",
    "\n",
    "for x in range(1, 6):\n",
    "    del X_copy_t['r%d_hero_id' % x]\n",
    "    del X_copy_t['d%d_hero_id' % x]\n",
    "    \n",
    "X_test['r1_hero_id'].max(), X_test['r1_hero_id'].min()\n",
    "X_test['r2_hero_id'].max(), X_test['r2_hero_id'].min()\n",
    "X_test['r3_hero_id'].max(), X_test['r3_hero_id'].min()\n",
    "\n",
    "N_hero = X_test['r3_hero_id'].max()\n",
    "print(N_hero, X_test['r2_hero_id'].min())\n",
    "\n",
    "X_pick = np.zeros((X_test.shape[0], N_hero))\n",
    "\n",
    "for i, match_id in enumerate(X_test.index):\n",
    "    for p in range(5):\n",
    "        X_pick[i, int(X_test.loc[match_id]['r%d_hero_id' % (p+1)]-1)] = 1\n",
    "        X_pick[i, int(X_test.loc[match_id]['d%d_hero_id' % (p+1)]-1)] = -1\n",
    "        \n",
    "X_test_new = np.concatenate((X_copy_t, X_pick), axis=1)"
   ]
  },
  {
   "cell_type": "code",
   "execution_count": null,
   "metadata": {},
   "outputs": [],
   "source": [
    "log_reg.fit(X_train_new, y_train)\n",
    "\n",
    "y_pred = log_reg.predict(X_test_new)"
   ]
  },
  {
   "cell_type": "code",
   "execution_count": null,
   "metadata": {},
   "outputs": [],
   "source": [
    "y_pred[0]"
   ]
  }
 ],
 "metadata": {
  "kernelspec": {
   "display_name": "Python 3",
   "language": "python",
   "name": "python3"
  },
  "language_info": {
   "codemirror_mode": {
    "name": "ipython",
    "version": 3
   },
   "file_extension": ".py",
   "mimetype": "text/x-python",
   "name": "python",
   "nbconvert_exporter": "python",
   "pygments_lexer": "ipython3",
   "version": "3.7.4"
  }
 },
 "nbformat": 4,
 "nbformat_minor": 4
}
