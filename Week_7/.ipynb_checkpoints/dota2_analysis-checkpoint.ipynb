{
 "cells": [
  {
   "cell_type": "code",
   "execution_count": 70,
   "metadata": {},
   "outputs": [],
   "source": [
    "import pandas as pd\n",
    "import numpy as np\n",
    "from sklearn.model_selection import KFold, cross_val_score\n",
    "from sklearn.ensemble import GradientBoostingClassifier\n",
    "from sklearn.metrics import roc_auc_score\n",
    "from sklearn.linear_model import LogisticRegression\n",
    "from sklearn.preprocessing import StandardScaler\n",
    "import time\n",
    "import datetime"
   ]
  },
  {
   "cell_type": "code",
   "execution_count": 32,
   "metadata": {},
   "outputs": [],
   "source": [
    "features = pd.read_csv('./features.csv', index_col='match_id')\n",
    "features_test = pd.read_csv('features_test.csv', index_col = 'match_id')"
   ]
  },
  {
   "cell_type": "code",
   "execution_count": 33,
   "metadata": {},
   "outputs": [],
   "source": [
    "y = features['radiant_win'] \n",
    "features.drop(['duration', 'radiant_win', 'tower_status_radiant', 'tower_status_dire', 'barracks_status_radiant', 'barracks_status_dire'], axis='columns', inplace=True)"
   ]
  },
  {
   "cell_type": "code",
   "execution_count": 34,
   "metadata": {},
   "outputs": [
    {
     "data": {
      "text/plain": [
       "start_time                  97230\n",
       "lobby_type                  97230\n",
       "r1_hero                     97230\n",
       "r1_level                    97230\n",
       "r1_xp                       97230\n",
       "                            ...  \n",
       "dire_tpscroll_count         97230\n",
       "dire_boots_count            97230\n",
       "dire_ward_observer_count    97230\n",
       "dire_ward_sentry_count      97230\n",
       "dire_first_ward_time        95404\n",
       "Length: 102, dtype: int64"
      ]
     },
     "execution_count": 34,
     "metadata": {},
     "output_type": "execute_result"
    }
   ],
   "source": [
    "features.count()"
   ]
  },
  {
   "cell_type": "code",
   "execution_count": 63,
   "metadata": {},
   "outputs": [],
   "source": [
    "X = features.fillna(0.)\n",
    "X_test = features_test.fillna(0.)"
   ]
  },
  {
   "cell_type": "markdown",
   "metadata": {},
   "source": [
    "# Градиентный бустинг (в лоб)"
   ]
  },
  {
   "cell_type": "code",
   "execution_count": 23,
   "metadata": {},
   "outputs": [
    {
     "name": "stdout",
     "output_type": "stream",
     "text": [
      "      Iter       Train Loss   Remaining Time \n",
      "         1           1.3729           11.26s\n",
      "         2           1.3637           10.00s\n",
      "         3           1.3543            8.74s\n",
      "         4           1.3466            7.53s\n",
      "         5           1.3387            6.33s\n",
      "         6           1.3322            5.10s\n",
      "         7           1.3257            3.83s\n",
      "         8           1.3194            2.57s\n",
      "         9           1.3141            1.29s\n",
      "        10           1.3089            0.00s\n",
      "      Iter       Train Loss   Remaining Time \n",
      "         1           1.3728            9.59s\n",
      "         2           1.3632            8.37s\n",
      "         3           1.3535            7.45s\n",
      "         4           1.3446            6.30s\n",
      "         5           1.3372            5.42s\n",
      "         6           1.3302            4.28s\n",
      "         7           1.3236            3.17s\n",
      "         8           1.3176            2.09s\n",
      "         9           1.3123            1.04s\n",
      "        10           1.3072            0.00s\n",
      "      Iter       Train Loss   Remaining Time \n",
      "         1           1.3730            8.76s\n",
      "         2           1.3636            7.70s\n",
      "         3           1.3537            6.72s\n",
      "         4           1.3459            5.77s\n",
      "         5           1.3381            4.96s\n",
      "         6           1.3309            3.94s\n",
      "         7           1.3242            2.99s\n",
      "         8           1.3183            1.98s\n",
      "         9           1.3127            1.00s\n",
      "        10           1.3076            0.00s\n",
      "      Iter       Train Loss   Remaining Time \n",
      "         1           1.3726            9.57s\n",
      "         2           1.3633            8.15s\n",
      "         3           1.3534            7.00s\n",
      "         4           1.3449            5.99s\n",
      "         5           1.3368            5.09s\n",
      "         6           1.3298            4.15s\n",
      "         7           1.3232            3.20s\n",
      "         8           1.3174            2.12s\n",
      "         9           1.3117            1.07s\n",
      "        10           1.3070            0.00s\n",
      "      Iter       Train Loss   Remaining Time \n",
      "         1           1.3728           10.41s\n",
      "         2           1.3632            8.87s\n",
      "         3           1.3538            8.04s\n",
      "         4           1.3449            6.78s\n",
      "         5           1.3373            5.56s\n",
      "         6           1.3304            4.41s\n",
      "         7           1.3245            3.30s\n",
      "         8           1.3184            2.22s\n",
      "         9           1.3128            1.11s\n",
      "        10           1.3078            0.00s\n",
      "      Iter       Train Loss   Remaining Time \n",
      "         1           1.3726            9.78s\n",
      "         2           1.3629            8.84s\n",
      "         3           1.3535            7.71s\n",
      "         4           1.3450            6.58s\n",
      "         5           1.3376            5.50s\n",
      "         6           1.3307            4.39s\n",
      "         7           1.3244            3.29s\n",
      "         8           1.3184            2.18s\n",
      "         9           1.3127            1.09s\n",
      "        10           1.3077            0.00s\n",
      "      Iter       Train Loss   Remaining Time \n",
      "         1           1.3729           28.56s\n",
      "         2           1.3637           27.26s\n",
      "         3           1.3543           25.20s\n",
      "         4           1.3466           24.07s\n",
      "         5           1.3387           22.11s\n",
      "         6           1.3322           20.24s\n",
      "         7           1.3257           18.50s\n",
      "         8           1.3194           16.87s\n",
      "         9           1.3141           15.33s\n",
      "        10           1.3089           13.84s\n",
      "        20           1.2747            0.00s\n",
      "      Iter       Train Loss   Remaining Time \n",
      "         1           1.3728           19.81s\n",
      "         2           1.3632           18.51s\n",
      "         3           1.3535           17.48s\n",
      "         4           1.3446           16.52s\n",
      "         5           1.3372           15.48s\n",
      "         6           1.3302           14.42s\n",
      "         7           1.3236           13.37s\n",
      "         8           1.3176           12.32s\n",
      "         9           1.3123           11.29s\n",
      "        10           1.3072           10.28s\n",
      "        20           1.2720            0.00s\n",
      "      Iter       Train Loss   Remaining Time \n",
      "         1           1.3730           16.80s\n",
      "         2           1.3636           15.82s\n",
      "         3           1.3537           15.07s\n",
      "         4           1.3459           14.58s\n",
      "         5           1.3381           13.61s\n",
      "         6           1.3309           12.62s\n",
      "         7           1.3242           11.78s\n",
      "         8           1.3183           10.85s\n",
      "         9           1.3127           10.01s\n",
      "        10           1.3076            9.00s\n",
      "        20           1.2732            0.00s\n",
      "      Iter       Train Loss   Remaining Time \n",
      "         1           1.3726           16.26s\n",
      "         2           1.3633           16.40s\n",
      "         3           1.3534           15.15s\n",
      "         4           1.3449           14.38s\n",
      "         5           1.3368           13.77s\n",
      "         6           1.3298           13.06s\n",
      "         7           1.3232           11.98s\n",
      "         8           1.3174           11.74s\n",
      "         9           1.3117           10.80s\n",
      "        10           1.3070            9.82s\n",
      "        20           1.2722            0.00s\n",
      "      Iter       Train Loss   Remaining Time \n",
      "         1           1.3728           16.61s\n",
      "         2           1.3632           15.60s\n",
      "         3           1.3538           16.15s\n",
      "         4           1.3449           15.43s\n",
      "         5           1.3373           14.14s\n",
      "         6           1.3304           12.98s\n",
      "         7           1.3245           12.18s\n",
      "         8           1.3184           11.29s\n",
      "         9           1.3128           10.34s\n",
      "        10           1.3078            9.33s\n",
      "        20           1.2736            0.00s\n",
      "      Iter       Train Loss   Remaining Time \n",
      "         1           1.3726           16.24s\n",
      "         2           1.3629           15.03s\n",
      "         3           1.3535           14.08s\n",
      "         4           1.3450           13.17s\n",
      "         5           1.3376           12.38s\n",
      "         6           1.3307           11.53s\n",
      "         7           1.3244           10.69s\n",
      "         8           1.3184            9.86s\n",
      "         9           1.3127            9.03s\n",
      "        10           1.3077            8.20s\n",
      "        20           1.2736            0.00s\n",
      "      Iter       Train Loss   Remaining Time \n",
      "         1           1.3729           29.83s\n",
      "         2           1.3637           28.55s\n",
      "         3           1.3543           27.49s\n",
      "         4           1.3466           26.55s\n",
      "         5           1.3387           25.84s\n",
      "         6           1.3322           25.46s\n",
      "         7           1.3257           24.96s\n",
      "         8           1.3194           24.11s\n",
      "         9           1.3141           23.02s\n",
      "        10           1.3089           22.05s\n",
      "        20           1.2747           11.08s\n",
      "        30           1.2550            0.00s\n",
      "      Iter       Train Loss   Remaining Time \n",
      "         1           1.3728           25.64s\n",
      "         2           1.3632           24.50s\n",
      "         3           1.3535           24.66s\n",
      "         4           1.3446           23.34s\n",
      "         5           1.3372           22.27s\n",
      "         6           1.3302           21.24s\n",
      "         7           1.3236           20.33s\n",
      "         8           1.3176           19.44s\n",
      "         9           1.3123           18.67s\n",
      "        10           1.3072           17.96s\n",
      "        20           1.2720            8.81s\n",
      "        30           1.2527            0.00s\n",
      "      Iter       Train Loss   Remaining Time \n",
      "         1           1.3730           26.42s\n",
      "         2           1.3636           25.11s\n",
      "         3           1.3537           23.95s\n",
      "         4           1.3459           23.00s\n",
      "         5           1.3381           22.06s\n",
      "         6           1.3309           21.11s\n",
      "         7           1.3242           20.24s\n",
      "         8           1.3183           19.36s\n",
      "         9           1.3127           18.48s\n",
      "        10           1.3076           17.56s\n",
      "        20           1.2732            8.72s\n",
      "        30           1.2532            0.00s\n",
      "      Iter       Train Loss   Remaining Time \n",
      "         1           1.3726           28.00s\n",
      "         2           1.3633           25.83s\n",
      "         3           1.3534           25.31s\n",
      "         4           1.3449           24.16s\n"
     ]
    },
    {
     "name": "stdout",
     "output_type": "stream",
     "text": [
      "         5           1.3368           23.50s\n",
      "         6           1.3298           22.46s\n",
      "         7           1.3232           21.46s\n",
      "         8           1.3174           20.53s\n",
      "         9           1.3117           19.66s\n",
      "        10           1.3070           18.74s\n",
      "        20           1.2722            9.35s\n",
      "        30           1.2517            0.00s\n",
      "      Iter       Train Loss   Remaining Time \n",
      "         1           1.3728           28.14s\n",
      "         2           1.3632           26.39s\n",
      "         3           1.3538           25.34s\n",
      "         4           1.3449           24.30s\n",
      "         5           1.3373           23.06s\n",
      "         6           1.3304           22.22s\n",
      "         7           1.3245           21.18s\n",
      "         8           1.3184           20.13s\n",
      "         9           1.3128           19.21s\n",
      "        10           1.3078           18.25s\n",
      "        20           1.2736            9.32s\n",
      "        30           1.2543            0.00s\n",
      "      Iter       Train Loss   Remaining Time \n",
      "         1           1.3726           30.30s\n",
      "         2           1.3629           28.67s\n",
      "         3           1.3535           26.25s\n",
      "         4           1.3450           24.47s\n",
      "         5           1.3376           23.91s\n",
      "         6           1.3307           23.26s\n",
      "         7           1.3244           22.54s\n",
      "         8           1.3184           23.60s\n",
      "         9           1.3127           22.17s\n",
      "        10           1.3077           20.81s\n",
      "        20           1.2736           10.37s\n",
      "        30           1.2536            0.00s\n"
     ]
    }
   ],
   "source": [
    "kf = KFold(n_splits=5, shuffle=True, random_state=42)\n",
    "coeffs = []\n",
    "times = []\n",
    "for i in range(10, 31, 10):\n",
    "    start_time = datetime.datetime.now()\n",
    "    clf = GradientBoostingClassifier(n_estimators=i, verbose=True, random_state=42, learning_rate=0.2)\n",
    "    clf.fit(X, y)\n",
    "    times.append(datetime.datetime.now() - start_time)\n",
    "    coeffs.append(cross_val_score(clf, X, y, scoring = 'roc_auc', cv=kf))"
   ]
  },
  {
   "cell_type": "code",
   "execution_count": 24,
   "metadata": {},
   "outputs": [
    {
     "name": "stdout",
     "output_type": "stream",
     "text": [
      "[datetime.timedelta(seconds=13, microseconds=122004), datetime.timedelta(seconds=27, microseconds=273535), datetime.timedelta(seconds=32, microseconds=995397)]\n",
      "0.6771099027716354\n",
      "0.6912158873482319\n",
      "0.6981202288645131\n"
     ]
    }
   ],
   "source": [
    "print(times)\n",
    "for coeff in coeffs:\n",
    "    print(np.mean(coeff))"
   ]
  },
  {
   "cell_type": "markdown",
   "metadata": {},
   "source": [
    "# Логистическая регрессия"
   ]
  },
  {
   "cell_type": "code",
   "execution_count": 78,
   "metadata": {},
   "outputs": [],
   "source": [
    "scaler = StandardScaler()\n",
    "X_for_log = X.copy()\n",
    "X_for_log.drop(['lobby_type', 'r1_hero', 'r2_hero', 'r3_hero', 'r4_hero', 'r5_hero', 'd1_hero', 'd2_hero', 'd3_hero', 'd4_hero', 'd5_hero'], axis='columns', inplace=True)\n",
    "scaler.fit(X)\n",
    "X_fit = scaler.transform(X)\n",
    "scaler.fit(X_for_log)\n",
    "X_for_log_fit = scaler.transform(X_for_log)"
   ]
  },
  {
   "cell_type": "code",
   "execution_count": 79,
   "metadata": {},
   "outputs": [
    {
     "name": "stdout",
     "output_type": "stream",
     "text": [
      "0.7165221087939807\n"
     ]
    }
   ],
   "source": [
    "kf = KFold(n_splits=5, shuffle=True, random_state=42)\n",
    "clf = LogisticRegression(penalty = 'l2')\n",
    "clf.fit(X_fit, y)\n",
    "print(np.mean(cross_val_score(clf, X_fit, y, scoring = 'roc_auc', cv=kf)))"
   ]
  },
  {
   "cell_type": "code",
   "execution_count": 80,
   "metadata": {},
   "outputs": [
    {
     "name": "stdout",
     "output_type": "stream",
     "text": [
      "0.7165303443778955\n"
     ]
    }
   ],
   "source": [
    "kf = KFold(n_splits=5, shuffle=True, random_state=42)\n",
    "clf = LogisticRegression(penalty = 'l2')\n",
    "clf.fit(X_for_log_fit, y)\n",
    "print(np.mean(cross_val_score(clf, X_for_log_fit, y, scoring = 'roc_auc', cv=kf)))"
   ]
  },
  {
   "cell_type": "code",
   "execution_count": 151,
   "metadata": {},
   "outputs": [],
   "source": [
    "#for column in X.columns:\n",
    "    #print(len(np.unique(np.array(X[column]))))\n",
    "    #if len(np.unique(np.array(X[column]))) == 108:\n",
    "    #    print (column)#.get_loc('r1_hero')\n",
    "#kl = np.array(X_fit[[ 'r1_level', 'r1_lh', 'r1_items', 'r1_deaths', 'r1_kills']])\n",
    "#print(np.unique(kl))\n",
    "#print(np.array(X[['r1_xp', 'r1_level', 'r1_gold', 'r1_lh', 'r1_kills', 'r1_kills', 'r1_deaths']]))\n",
    "#rang = np.unique(np.array(X['d4_hero']))\n",
    "#len(rang)"
   ]
  },
  {
   "cell_type": "code",
   "execution_count": 59,
   "metadata": {},
   "outputs": [],
   "source": [
    "unique = []\n",
    "for i in range(len(X_for_log.T)):\n",
    "    unique.append(np.unique(X_for_log.T[i]))"
   ]
  }
 ],
 "metadata": {
  "kernelspec": {
   "display_name": "Python 3",
   "language": "python",
   "name": "python3"
  },
  "language_info": {
   "codemirror_mode": {
    "name": "ipython",
    "version": 3
   },
   "file_extension": ".py",
   "mimetype": "text/x-python",
   "name": "python",
   "nbconvert_exporter": "python",
   "pygments_lexer": "ipython3",
   "version": "3.7.4"
  }
 },
 "nbformat": 4,
 "nbformat_minor": 2
}
